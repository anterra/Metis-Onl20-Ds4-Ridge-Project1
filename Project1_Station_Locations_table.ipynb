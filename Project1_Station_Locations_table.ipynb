{
 "cells": [
  {
   "cell_type": "markdown",
   "metadata": {},
   "source": [
    "## Making a locations lookup table for subway stops from the turnstile data.\n",
    "\n",
    "The station locations file was found at 'http://web.mta.info/developers/data/nyct/turnstile/turnstile_200919.txt'\n",
    "\n",
    "The data is older (2009) and does not include the PTH, RIT and some other divisions that made up a small part of the turnstile dataset.\n",
    "\n",
    "Also, the station names and lines are only partial matches between the two datasets."
   ]
  },
  {
   "cell_type": "code",
   "execution_count": 1,
   "metadata": {},
   "outputs": [],
   "source": [
    "import pandas as pd\n",
    "import numpy as np\n",
    "import pickle"
   ]
  },
  {
   "cell_type": "markdown",
   "metadata": {},
   "source": [
    "### Import any week of the turnstile data, just to get the station information"
   ]
  },
  {
   "cell_type": "code",
   "execution_count": 2,
   "metadata": {},
   "outputs": [],
   "source": [
    "df=pd.read_csv('http://web.mta.info/developers/data/nyct/turnstile/turnstile_200919.txt')"
   ]
  },
  {
   "cell_type": "markdown",
   "metadata": {},
   "source": [
    "### Get the station information \"STATION\", \"LINENAME\" and \"DIVISION\" from the turnstile df"
   ]
  },
  {
   "cell_type": "code",
   "execution_count": 3,
   "metadata": {},
   "outputs": [
    {
     "data": {
      "text/html": [
       "<div>\n",
       "<style scoped>\n",
       "    .dataframe tbody tr th:only-of-type {\n",
       "        vertical-align: middle;\n",
       "    }\n",
       "\n",
       "    .dataframe tbody tr th {\n",
       "        vertical-align: top;\n",
       "    }\n",
       "\n",
       "    .dataframe thead th {\n",
       "        text-align: right;\n",
       "    }\n",
       "</style>\n",
       "<table border=\"1\" class=\"dataframe\">\n",
       "  <thead>\n",
       "    <tr style=\"text-align: right;\">\n",
       "      <th></th>\n",
       "      <th>STATION</th>\n",
       "      <th>LINENAME</th>\n",
       "      <th>DIVISION</th>\n",
       "    </tr>\n",
       "  </thead>\n",
       "  <tbody>\n",
       "    <tr>\n",
       "      <th>0</th>\n",
       "      <td>1 AV</td>\n",
       "      <td>L</td>\n",
       "      <td>BMT</td>\n",
       "    </tr>\n",
       "    <tr>\n",
       "      <th>1</th>\n",
       "      <td>103 ST</td>\n",
       "      <td>1</td>\n",
       "      <td>IRT</td>\n",
       "    </tr>\n",
       "    <tr>\n",
       "      <th>2</th>\n",
       "      <td>103 ST</td>\n",
       "      <td>6</td>\n",
       "      <td>IRT</td>\n",
       "    </tr>\n",
       "    <tr>\n",
       "      <th>3</th>\n",
       "      <td>103 ST</td>\n",
       "      <td>BC</td>\n",
       "      <td>IND</td>\n",
       "    </tr>\n",
       "    <tr>\n",
       "      <th>4</th>\n",
       "      <td>103 ST-CORONA</td>\n",
       "      <td>7</td>\n",
       "      <td>IRT</td>\n",
       "    </tr>\n",
       "    <tr>\n",
       "      <th>...</th>\n",
       "      <td>...</td>\n",
       "      <td>...</td>\n",
       "      <td>...</td>\n",
       "    </tr>\n",
       "    <tr>\n",
       "      <th>480</th>\n",
       "      <td>WOODLAWN</td>\n",
       "      <td>4</td>\n",
       "      <td>IRT</td>\n",
       "    </tr>\n",
       "    <tr>\n",
       "      <th>481</th>\n",
       "      <td>WORLD TRADE CTR</td>\n",
       "      <td>ACE23</td>\n",
       "      <td>IND</td>\n",
       "    </tr>\n",
       "    <tr>\n",
       "      <th>482</th>\n",
       "      <td>WTC-CORTLANDT</td>\n",
       "      <td>1</td>\n",
       "      <td>IRT</td>\n",
       "    </tr>\n",
       "    <tr>\n",
       "      <th>483</th>\n",
       "      <td>YORK ST</td>\n",
       "      <td>F</td>\n",
       "      <td>IND</td>\n",
       "    </tr>\n",
       "    <tr>\n",
       "      <th>484</th>\n",
       "      <td>ZEREGA AV</td>\n",
       "      <td>6</td>\n",
       "      <td>IRT</td>\n",
       "    </tr>\n",
       "  </tbody>\n",
       "</table>\n",
       "<p>485 rows × 3 columns</p>\n",
       "</div>"
      ],
      "text/plain": [
       "             STATION LINENAME DIVISION\n",
       "0               1 AV        L      BMT\n",
       "1             103 ST        1      IRT\n",
       "2             103 ST        6      IRT\n",
       "3             103 ST       BC      IND\n",
       "4      103 ST-CORONA        7      IRT\n",
       "..               ...      ...      ...\n",
       "480         WOODLAWN        4      IRT\n",
       "481  WORLD TRADE CTR    ACE23      IND\n",
       "482    WTC-CORTLANDT        1      IRT\n",
       "483          YORK ST        F      IND\n",
       "484        ZEREGA AV        6      IRT\n",
       "\n",
       "[485 rows x 3 columns]"
      ]
     },
     "execution_count": 3,
     "metadata": {},
     "output_type": "execute_result"
    }
   ],
   "source": [
    "df4 = df.groupby(['STATION', 'LINENAME', 'DIVISION'])[['SCP']].count()\n",
    "df6 = pd.DataFrame(list(df4.index))\n",
    "df6.columns=[\"STATION\", \"LINENAME\", \"DIVISION\"]\n",
    "df6"
   ]
  },
  {
   "cell_type": "markdown",
   "metadata": {},
   "source": [
    "### Import the station location dataset"
   ]
  },
  {
   "cell_type": "code",
   "execution_count": 4,
   "metadata": {},
   "outputs": [],
   "source": [
    "locations = pd.read_csv('http://web.mta.info/developers/data/nyct/subway/Stations.csv')"
   ]
  },
  {
   "cell_type": "markdown",
   "metadata": {},
   "source": [
    "### We realized that there are actually many stations with the same name, but different locations data. Including the lines, or 'Daytime Routes' column in the locations dataset was the best way to identify individual stations."
   ]
  },
  {
   "cell_type": "code",
   "execution_count": 5,
   "metadata": {},
   "outputs": [
    {
     "data": {
      "text/plain": [
       "Canal St                   6\n",
       "86 St                      6\n",
       "23 St                      5\n",
       "Fulton St                  5\n",
       "125 St                     4\n",
       "                          ..\n",
       "World Trade Center         1\n",
       "Harlem - 148 St            1\n",
       "E 143 St - St Mary's St    1\n",
       "168 St - Washington Hts    1\n",
       "42 St - Bryant Pk          1\n",
       "Name: Stop Name, Length: 377, dtype: int64"
      ]
     },
     "execution_count": 5,
     "metadata": {},
     "output_type": "execute_result"
    }
   ],
   "source": [
    "locations['Stop Name'].value_counts()"
   ]
  },
  {
   "cell_type": "code",
   "execution_count": 6,
   "metadata": {},
   "outputs": [
    {
     "data": {
      "text/plain": [
       "1    402\n",
       "2     41\n",
       "3      4\n",
       "Name: GTFS Latitude, dtype: int64"
      ]
     },
     "execution_count": 6,
     "metadata": {},
     "output_type": "execute_result"
    }
   ],
   "source": [
    "locations.groupby(['Stop Name','Division'])['GTFS Latitude'].count().value_counts()"
   ]
  },
  {
   "cell_type": "code",
   "execution_count": 7,
   "metadata": {},
   "outputs": [
    {
     "data": {
      "text/plain": [
       "1    496\n",
       "Name: GTFS Latitude, dtype: int64"
      ]
     },
     "execution_count": 7,
     "metadata": {},
     "output_type": "execute_result"
    }
   ],
   "source": [
    "locations.groupby(['Stop Name','Daytime Routes'])['GTFS Latitude'].count().value_counts()"
   ]
  },
  {
   "cell_type": "markdown",
   "metadata": {},
   "source": [
    "Stations in location dataset are lower case, but in the turnstile data are uppercase, so the station name in locations dataset is changed to uppercase"
   ]
  },
  {
   "cell_type": "code",
   "execution_count": 8,
   "metadata": {},
   "outputs": [],
   "source": [
    "locations[\"STATION\"] = locations['Stop Name'].str.upper()"
   ]
  },
  {
   "cell_type": "markdown",
   "metadata": {},
   "source": [
    "The lines (Daytime Routes) in the locations dataset have spaces but in the turnstile data lines (LINENAMES) don't, so the spaces in locations dataset lines are removed"
   ]
  },
  {
   "cell_type": "code",
   "execution_count": 9,
   "metadata": {},
   "outputs": [],
   "source": [
    "locations[\"Daytime Routes\"] = locations[\"Daytime Routes\"].str.replace(\" \",\"\")"
   ]
  },
  {
   "cell_type": "markdown",
   "metadata": {},
   "source": [
    "### Using character set percent overlap to match locations dataframe stations to turnstile dataframe stations\n",
    "\n",
    "Using pandas merge function did not work well because of the partial matches between the 'STATIONS' column in the turnstile dataset and the 'STATIONS' column in the locations dataset, as well as the partial matches between the 'LINENAME' column in the turnstile dataset and the 'Daytime Routes' column in the locations dataset.\n",
    "\n",
    "A way to do partial matching is to find the maximum percent overlap of the characters in a string with the other strings. First, lists of sets of the characters in each line name and each linename were made for the datasets. "
   ]
  },
  {
   "cell_type": "code",
   "execution_count": 10,
   "metadata": {},
   "outputs": [],
   "source": [
    "#making a list of sets for each station, containing the characters in its name\n",
    "df6_sets=[]\n",
    "for i in df6[\"STATION\"]:\n",
    "    station_chars = set(i)\n",
    "    df6_sets.append(station_chars)\n",
    "    \n",
    "locations_sets=[]\n",
    "for i in locations[\"STATION\"]:\n",
    "    station_chars = set(i)\n",
    "    locations_sets.append(station_chars)"
   ]
  },
  {
   "cell_type": "code",
   "execution_count": 11,
   "metadata": {},
   "outputs": [],
   "source": [
    "#making a list of sets for each linename, containing the characters in its name\n",
    "df6_line_sets=[]\n",
    "for i in df6[\"LINENAME\"]:\n",
    "    line_chars = set(i)\n",
    "    df6_line_sets.append(line_chars)\n",
    "    \n",
    "locations_line_sets=[]\n",
    "for i in locations[\"Daytime Routes\"]:\n",
    "    line_chars = set(i)\n",
    "    locations_line_sets.append(line_chars)"
   ]
  },
  {
   "cell_type": "markdown",
   "metadata": {},
   "source": [
    "A loop was made to look at the characters from each station name in the turnstile dataset and find the best matches (% overlap) in the locations dataset. \n",
    "Then, if there are multiple equally good station character matches, it looks at the overlap between the linename characters in the turnstile datset and the linename characters in the locations dataset. It chooses the best match here.\n",
    "\n",
    "\n",
    "In retrospect, this was probably a waste of time since there were only ~500 stations and I could have organized the data by hand more quickly."
   ]
  },
  {
   "cell_type": "code",
   "execution_count": 12,
   "metadata": {},
   "outputs": [],
   "source": [
    "def best_station_match():\n",
    "    \"\"\"\n",
    "    A function that finds and returns the index of the locations dataset that most likely matches \n",
    "    each station in the turnstile dataset based on character overlap for stations and lines\n",
    "    \"\"\"\n",
    "    best_match_list =[]\n",
    "    pos=-1\n",
    "    #loop over the list of sets of characters in stations from the turnstile data\n",
    "    for i in df6_sets:\n",
    "        pos += 1\n",
    "        best_matches=[]\n",
    "        max_score=0\n",
    "        \n",
    "        #find the best match by % overlap of this set with the station character sets from locations \n",
    "        for j in locations_sets:\n",
    "            match_score = len(i & j)/max(len(i),len(j))\n",
    "            if match_score > max_score:\n",
    "                max_score = match_score\n",
    "                best_match = locations_sets.index(j)             \n",
    "        best_score= len(locations_sets[best_match] & i)/max(len(locations_sets[best_match]),len(i))\n",
    "        pos2=-1\n",
    "        \n",
    "        #find other station character matches if they were equally as good as the best match\n",
    "        for j in locations_sets:\n",
    "            pos2+=1\n",
    "            if len(j & i)/max(len(i),len(j)) == best_score:\n",
    "                best_matches.append(pos2)\n",
    "                \n",
    "        #If there is only one best station name match, assign this one\n",
    "        if len(best_matches)==1:\n",
    "            best_matches=best_matches[0]\n",
    "            best_match_list.append(best_matches)\n",
    "            continue\n",
    "        \n",
    "        #If there is more than one best station match, look at each line and assign the best line match\n",
    "        if len(best_matches) > 1:\n",
    "            best_match_2=0\n",
    "            max_score_2=0\n",
    "            k = df6_line_sets[pos]\n",
    "            for z in best_matches:\n",
    "                l = locations_line_sets[z]\n",
    "                match_score_2 = len(k & l)/max(len(k),len(l))\n",
    "                if match_score_2 > max_score_2:\n",
    "                    max_score_2 = match_score_2\n",
    "                    best_match_2=z\n",
    "            best_matches=best_match_2                  \n",
    "            best_match_list.append(best_matches)\n",
    "                \n",
    "            \n",
    "    return best_match_list\n",
    "\n"
   ]
  },
  {
   "cell_type": "code",
   "execution_count": 13,
   "metadata": {},
   "outputs": [],
   "source": [
    "test = best_station_match()"
   ]
  },
  {
   "cell_type": "code",
   "execution_count": 14,
   "metadata": {},
   "outputs": [],
   "source": [
    "index_needed = list(test)"
   ]
  },
  {
   "cell_type": "markdown",
   "metadata": {},
   "source": [
    "Append the best match lines from locations dataframe to the turnstile stations names dataframe"
   ]
  },
  {
   "cell_type": "code",
   "execution_count": 15,
   "metadata": {},
   "outputs": [],
   "source": [
    "final = pd.concat([df6,locations.iloc[index_needed].reset_index()],axis=1)"
   ]
  },
  {
   "cell_type": "code",
   "execution_count": 16,
   "metadata": {},
   "outputs": [
    {
     "data": {
      "text/html": [
       "<div>\n",
       "<style scoped>\n",
       "    .dataframe tbody tr th:only-of-type {\n",
       "        vertical-align: middle;\n",
       "    }\n",
       "\n",
       "    .dataframe tbody tr th {\n",
       "        vertical-align: top;\n",
       "    }\n",
       "\n",
       "    .dataframe thead th {\n",
       "        text-align: right;\n",
       "    }\n",
       "</style>\n",
       "<table border=\"1\" class=\"dataframe\">\n",
       "  <thead>\n",
       "    <tr style=\"text-align: right;\">\n",
       "      <th></th>\n",
       "      <th>STATION</th>\n",
       "      <th>LINENAME</th>\n",
       "      <th>DIVISION</th>\n",
       "      <th>index</th>\n",
       "      <th>Station ID</th>\n",
       "      <th>Complex ID</th>\n",
       "      <th>GTFS Stop ID</th>\n",
       "      <th>Division</th>\n",
       "      <th>Line</th>\n",
       "      <th>Stop Name</th>\n",
       "      <th>Borough</th>\n",
       "      <th>Daytime Routes</th>\n",
       "      <th>Structure</th>\n",
       "      <th>GTFS Latitude</th>\n",
       "      <th>GTFS Longitude</th>\n",
       "      <th>North Direction Label</th>\n",
       "      <th>South Direction Label</th>\n",
       "      <th>STATION</th>\n",
       "    </tr>\n",
       "  </thead>\n",
       "  <tbody>\n",
       "    <tr>\n",
       "      <th>0</th>\n",
       "      <td>1 AV</td>\n",
       "      <td>L</td>\n",
       "      <td>BMT</td>\n",
       "      <td>118</td>\n",
       "      <td>119</td>\n",
       "      <td>119</td>\n",
       "      <td>L06</td>\n",
       "      <td>BMT</td>\n",
       "      <td>Canarsie</td>\n",
       "      <td>1 Av</td>\n",
       "      <td>M</td>\n",
       "      <td>L</td>\n",
       "      <td>Subway</td>\n",
       "      <td>40.730953</td>\n",
       "      <td>-73.981628</td>\n",
       "      <td>8 Av</td>\n",
       "      <td>Brooklyn</td>\n",
       "      <td>1 AV</td>\n",
       "    </tr>\n",
       "    <tr>\n",
       "      <th>1</th>\n",
       "      <td>103 ST</td>\n",
       "      <td>1</td>\n",
       "      <td>IRT</td>\n",
       "      <td>309</td>\n",
       "      <td>309</td>\n",
       "      <td>309</td>\n",
       "      <td>119</td>\n",
       "      <td>IRT</td>\n",
       "      <td>Broadway - 7Av</td>\n",
       "      <td>103 St</td>\n",
       "      <td>M</td>\n",
       "      <td>1</td>\n",
       "      <td>Subway</td>\n",
       "      <td>40.799446</td>\n",
       "      <td>-73.968379</td>\n",
       "      <td>Uptown &amp; The Bronx</td>\n",
       "      <td>Downtown</td>\n",
       "      <td>103 ST</td>\n",
       "    </tr>\n",
       "    <tr>\n",
       "      <th>2</th>\n",
       "      <td>103 ST</td>\n",
       "      <td>6</td>\n",
       "      <td>IRT</td>\n",
       "      <td>395</td>\n",
       "      <td>395</td>\n",
       "      <td>395</td>\n",
       "      <td>624</td>\n",
       "      <td>IRT</td>\n",
       "      <td>Lexington Av</td>\n",
       "      <td>103 St</td>\n",
       "      <td>M</td>\n",
       "      <td>6</td>\n",
       "      <td>Subway</td>\n",
       "      <td>40.790600</td>\n",
       "      <td>-73.947478</td>\n",
       "      <td>Uptown &amp; The Bronx</td>\n",
       "      <td>Downtown</td>\n",
       "      <td>103 ST</td>\n",
       "    </tr>\n",
       "    <tr>\n",
       "      <th>3</th>\n",
       "      <td>103 ST</td>\n",
       "      <td>BC</td>\n",
       "      <td>IND</td>\n",
       "      <td>155</td>\n",
       "      <td>156</td>\n",
       "      <td>156</td>\n",
       "      <td>A18</td>\n",
       "      <td>IND</td>\n",
       "      <td>8th Av - Fulton St</td>\n",
       "      <td>103 St</td>\n",
       "      <td>M</td>\n",
       "      <td>BC</td>\n",
       "      <td>Subway</td>\n",
       "      <td>40.796092</td>\n",
       "      <td>-73.961454</td>\n",
       "      <td>Uptown &amp; The Bronx</td>\n",
       "      <td>Downtown &amp; Brooklyn</td>\n",
       "      <td>103 ST</td>\n",
       "    </tr>\n",
       "    <tr>\n",
       "      <th>4</th>\n",
       "      <td>103 ST-CORONA</td>\n",
       "      <td>7</td>\n",
       "      <td>IRT</td>\n",
       "      <td>450</td>\n",
       "      <td>450</td>\n",
       "      <td>450</td>\n",
       "      <td>706</td>\n",
       "      <td>IRT</td>\n",
       "      <td>Flushing</td>\n",
       "      <td>103 St - Corona Plaza</td>\n",
       "      <td>Q</td>\n",
       "      <td>7</td>\n",
       "      <td>Elevated</td>\n",
       "      <td>40.749865</td>\n",
       "      <td>-73.862700</td>\n",
       "      <td>Flushing</td>\n",
       "      <td>Manhattan</td>\n",
       "      <td>103 ST - CORONA PLAZA</td>\n",
       "    </tr>\n",
       "    <tr>\n",
       "      <th>...</th>\n",
       "      <td>...</td>\n",
       "      <td>...</td>\n",
       "      <td>...</td>\n",
       "      <td>...</td>\n",
       "      <td>...</td>\n",
       "      <td>...</td>\n",
       "      <td>...</td>\n",
       "      <td>...</td>\n",
       "      <td>...</td>\n",
       "      <td>...</td>\n",
       "      <td>...</td>\n",
       "      <td>...</td>\n",
       "      <td>...</td>\n",
       "      <td>...</td>\n",
       "      <td>...</td>\n",
       "      <td>...</td>\n",
       "      <td>...</td>\n",
       "      <td>...</td>\n",
       "    </tr>\n",
       "    <tr>\n",
       "      <th>480</th>\n",
       "      <td>WOODLAWN</td>\n",
       "      <td>4</td>\n",
       "      <td>IRT</td>\n",
       "      <td>378</td>\n",
       "      <td>378</td>\n",
       "      <td>378</td>\n",
       "      <td>401</td>\n",
       "      <td>IRT</td>\n",
       "      <td>Jerome Av</td>\n",
       "      <td>Woodlawn</td>\n",
       "      <td>Bx</td>\n",
       "      <td>4</td>\n",
       "      <td>Elevated</td>\n",
       "      <td>40.886037</td>\n",
       "      <td>-73.878751</td>\n",
       "      <td>NaN</td>\n",
       "      <td>Manhattan</td>\n",
       "      <td>WOODLAWN</td>\n",
       "    </tr>\n",
       "    <tr>\n",
       "      <th>481</th>\n",
       "      <td>WORLD TRADE CTR</td>\n",
       "      <td>ACE23</td>\n",
       "      <td>IND</td>\n",
       "      <td>171</td>\n",
       "      <td>171</td>\n",
       "      <td>624</td>\n",
       "      <td>E01</td>\n",
       "      <td>IND</td>\n",
       "      <td>8th Av - Fulton St</td>\n",
       "      <td>World Trade Center</td>\n",
       "      <td>M</td>\n",
       "      <td>E</td>\n",
       "      <td>Subway</td>\n",
       "      <td>40.712582</td>\n",
       "      <td>-74.009781</td>\n",
       "      <td>Uptown &amp; Queens</td>\n",
       "      <td>NaN</td>\n",
       "      <td>WORLD TRADE CENTER</td>\n",
       "    </tr>\n",
       "    <tr>\n",
       "      <th>482</th>\n",
       "      <td>WTC-CORTLANDT</td>\n",
       "      <td>1</td>\n",
       "      <td>IRT</td>\n",
       "      <td>328</td>\n",
       "      <td>328</td>\n",
       "      <td>328</td>\n",
       "      <td>138</td>\n",
       "      <td>IRT</td>\n",
       "      <td>Broadway - 7Av</td>\n",
       "      <td>WTC Cortlandt</td>\n",
       "      <td>M</td>\n",
       "      <td>1</td>\n",
       "      <td>Subway</td>\n",
       "      <td>40.711835</td>\n",
       "      <td>-74.012188</td>\n",
       "      <td>Uptown &amp; The Bronx</td>\n",
       "      <td>Downtown</td>\n",
       "      <td>WTC CORTLANDT</td>\n",
       "    </tr>\n",
       "    <tr>\n",
       "      <th>483</th>\n",
       "      <td>YORK ST</td>\n",
       "      <td>F</td>\n",
       "      <td>IND</td>\n",
       "      <td>235</td>\n",
       "      <td>235</td>\n",
       "      <td>235</td>\n",
       "      <td>F18</td>\n",
       "      <td>IND</td>\n",
       "      <td>6th Av - Culver</td>\n",
       "      <td>York St</td>\n",
       "      <td>Bk</td>\n",
       "      <td>F</td>\n",
       "      <td>Subway</td>\n",
       "      <td>40.701397</td>\n",
       "      <td>-73.986751</td>\n",
       "      <td>Manhattan</td>\n",
       "      <td>Coney Island</td>\n",
       "      <td>YORK ST</td>\n",
       "    </tr>\n",
       "    <tr>\n",
       "      <th>484</th>\n",
       "      <td>ZEREGA AV</td>\n",
       "      <td>6</td>\n",
       "      <td>IRT</td>\n",
       "      <td>364</td>\n",
       "      <td>364</td>\n",
       "      <td>364</td>\n",
       "      <td>606</td>\n",
       "      <td>IRT</td>\n",
       "      <td>Pelham</td>\n",
       "      <td>Zerega Av</td>\n",
       "      <td>Bx</td>\n",
       "      <td>6</td>\n",
       "      <td>Elevated</td>\n",
       "      <td>40.836488</td>\n",
       "      <td>-73.847036</td>\n",
       "      <td>Pelham Bay Park</td>\n",
       "      <td>Manhattan</td>\n",
       "      <td>ZEREGA AV</td>\n",
       "    </tr>\n",
       "  </tbody>\n",
       "</table>\n",
       "<p>485 rows × 18 columns</p>\n",
       "</div>"
      ],
      "text/plain": [
       "             STATION LINENAME DIVISION  index  Station ID  Complex ID  \\\n",
       "0               1 AV        L      BMT    118         119         119   \n",
       "1             103 ST        1      IRT    309         309         309   \n",
       "2             103 ST        6      IRT    395         395         395   \n",
       "3             103 ST       BC      IND    155         156         156   \n",
       "4      103 ST-CORONA        7      IRT    450         450         450   \n",
       "..               ...      ...      ...    ...         ...         ...   \n",
       "480         WOODLAWN        4      IRT    378         378         378   \n",
       "481  WORLD TRADE CTR    ACE23      IND    171         171         624   \n",
       "482    WTC-CORTLANDT        1      IRT    328         328         328   \n",
       "483          YORK ST        F      IND    235         235         235   \n",
       "484        ZEREGA AV        6      IRT    364         364         364   \n",
       "\n",
       "    GTFS Stop ID Division                Line              Stop Name Borough  \\\n",
       "0            L06      BMT            Canarsie                   1 Av       M   \n",
       "1            119      IRT      Broadway - 7Av                 103 St       M   \n",
       "2            624      IRT        Lexington Av                 103 St       M   \n",
       "3            A18      IND  8th Av - Fulton St                 103 St       M   \n",
       "4            706      IRT            Flushing  103 St - Corona Plaza       Q   \n",
       "..           ...      ...                 ...                    ...     ...   \n",
       "480          401      IRT           Jerome Av               Woodlawn      Bx   \n",
       "481          E01      IND  8th Av - Fulton St     World Trade Center       M   \n",
       "482          138      IRT      Broadway - 7Av          WTC Cortlandt       M   \n",
       "483          F18      IND     6th Av - Culver                York St      Bk   \n",
       "484          606      IRT              Pelham              Zerega Av      Bx   \n",
       "\n",
       "    Daytime Routes Structure  GTFS Latitude  GTFS Longitude  \\\n",
       "0                L    Subway      40.730953      -73.981628   \n",
       "1                1    Subway      40.799446      -73.968379   \n",
       "2                6    Subway      40.790600      -73.947478   \n",
       "3               BC    Subway      40.796092      -73.961454   \n",
       "4                7  Elevated      40.749865      -73.862700   \n",
       "..             ...       ...            ...             ...   \n",
       "480              4  Elevated      40.886037      -73.878751   \n",
       "481              E    Subway      40.712582      -74.009781   \n",
       "482              1    Subway      40.711835      -74.012188   \n",
       "483              F    Subway      40.701397      -73.986751   \n",
       "484              6  Elevated      40.836488      -73.847036   \n",
       "\n",
       "    North Direction Label South Direction Label                STATION  \n",
       "0                    8 Av              Brooklyn                   1 AV  \n",
       "1      Uptown & The Bronx              Downtown                 103 ST  \n",
       "2      Uptown & The Bronx              Downtown                 103 ST  \n",
       "3      Uptown & The Bronx   Downtown & Brooklyn                 103 ST  \n",
       "4                Flushing             Manhattan  103 ST - CORONA PLAZA  \n",
       "..                    ...                   ...                    ...  \n",
       "480                   NaN             Manhattan               WOODLAWN  \n",
       "481       Uptown & Queens                   NaN     WORLD TRADE CENTER  \n",
       "482    Uptown & The Bronx              Downtown          WTC CORTLANDT  \n",
       "483             Manhattan          Coney Island                YORK ST  \n",
       "484       Pelham Bay Park             Manhattan              ZEREGA AV  \n",
       "\n",
       "[485 rows x 18 columns]"
      ]
     },
     "execution_count": 16,
     "metadata": {},
     "output_type": "execute_result"
    }
   ],
   "source": [
    "#pd.set_option('display.max_rows', 500)\n",
    "final"
   ]
  },
  {
   "cell_type": "code",
   "execution_count": 17,
   "metadata": {},
   "outputs": [
    {
     "data": {
      "text/plain": [
       "STATION                   0\n",
       "LINENAME                  0\n",
       "DIVISION                  0\n",
       "index                     0\n",
       "Station ID                0\n",
       "Complex ID                0\n",
       "GTFS Stop ID              0\n",
       "Division                  0\n",
       "Line                      0\n",
       "Stop Name                 0\n",
       "Borough                   0\n",
       "Daytime Routes            0\n",
       "Structure                 0\n",
       "GTFS Latitude             0\n",
       "GTFS Longitude            0\n",
       "North Direction Label    33\n",
       "South Direction Label     7\n",
       "STATION                   0\n",
       "dtype: int64"
      ]
     },
     "execution_count": 17,
     "metadata": {},
     "output_type": "execute_result"
    }
   ],
   "source": [
    "final.isnull().sum()"
   ]
  },
  {
   "cell_type": "markdown",
   "metadata": {},
   "source": [
    "### Make some corrections manually\n",
    "\n",
    "Looking at the dataset, there were some obvious errors (such as cases with very different station names, and incorrect matches for PTH line that was not part of the locations data) that had to be corrected by hand. There are some remaining errors."
   ]
  },
  {
   "cell_type": "code",
   "execution_count": null,
   "metadata": {},
   "outputs": [],
   "source": [
    "#final.to_csv(\"stations_locations.csv\")"
   ]
  },
  {
   "cell_type": "code",
   "execution_count": 31,
   "metadata": {},
   "outputs": [],
   "source": [
    "#locations.to_csv(\"locations.csv\")"
   ]
  },
  {
   "cell_type": "code",
   "execution_count": 19,
   "metadata": {},
   "outputs": [],
   "source": [
    "#final = pd.read_csv('stations_final_2.csv')"
   ]
  },
  {
   "cell_type": "markdown",
   "metadata": {},
   "source": [
    "### Pickle this final data frame"
   ]
  },
  {
   "cell_type": "code",
   "execution_count": null,
   "metadata": {},
   "outputs": [],
   "source": [
    "#with open(\"station_locations_correct_2.pickle\",\"wb\") as write_file:\n",
    "#    pickle.dump(final, write_file)"
   ]
  },
  {
   "cell_type": "markdown",
   "metadata": {},
   "source": [
    "This pickle object is used in the main notebook to assign gps locations and borough information to stations for some graphs. \n",
    "\n",
    "The gps data could also have been used to find the busiest stations within some distance range from tech universities and tech hubs, using gps locations for those places and calculating euclidean distance"
   ]
  }
 ],
 "metadata": {
  "kernelspec": {
   "display_name": "Python 3",
   "language": "python",
   "name": "python3"
  },
  "language_info": {
   "codemirror_mode": {
    "name": "ipython",
    "version": 3
   },
   "file_extension": ".py",
   "mimetype": "text/x-python",
   "name": "python",
   "nbconvert_exporter": "python",
   "pygments_lexer": "ipython3",
   "version": "3.7.6"
  }
 },
 "nbformat": 4,
 "nbformat_minor": 4
}
